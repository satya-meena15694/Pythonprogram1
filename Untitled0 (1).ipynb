{
  "nbformat": 4,
  "nbformat_minor": 0,
  "metadata": {
    "colab": {
      "provenance": []
    },
    "kernelspec": {
      "name": "python3",
      "display_name": "Python 3"
    },
    "language_info": {
      "name": "python"
    }
  },
  "cells": [
    {
      "cell_type": "code",
      "source": [
        " var = \"hello user\"\n",
        " print(var)                           #if we want print var\n",
        " print(len(var))                      #if we chack length of var\n",
        " print(var[-1::-1])                   #when substrin from a string"
      ],
      "metadata": {
        "colab": {
          "base_uri": "https://localhost:8080/"
        },
        "id": "Z5zqxpJORJvR",
        "outputId": "c5581f12-6499-460a-c8d6-2de29dba12e7"
      },
      "execution_count": 19,
      "outputs": [
        {
          "output_type": "stream",
          "name": "stdout",
          "text": [
            "hello user\n",
            "10\n",
            "resu olleh\n"
          ]
        }
      ]
    },
    {
      "cell_type": "code",
      "source": [
        "var1 = \"i am satya\"\n",
        "var2 = \" i am a programer\"\n",
        "print(var1+var2)                                       #when we concatenate strings\n",
        "print(var2.upper())                                    #when we convrt string in Uppercase\n",
        "print(var1.lower())                                    #when we convrt string in Lowercase\n",
        "print(var1.capitalize())                               #when we want to the frisr letter of string is capital\n",
        "\n",
        "\n",
        "\n"
      ],
      "metadata": {
        "colab": {
          "base_uri": "https://localhost:8080/"
        },
        "id": "VryoD8OBSN68",
        "outputId": "38104106-31a1-46f4-e343-300f724189f8"
      },
      "execution_count": 20,
      "outputs": [
        {
          "output_type": "stream",
          "name": "stdout",
          "text": [
            "i am satya i am a programer\n",
            " I AM A PROGRAMER\n",
            "i am satya\n",
            "I am satya\n"
          ]
        }
      ]
    },
    {
      "cell_type": "code",
      "source": [
        "str = \"python is good language\"\n",
        "print(\"is\" in str)                                      #chack if \"is\" exist in the string\n",
        "print(\"hello\" in str)                                   #chack if \"hello\" exist in the string\n",
        "print(str.replace(\"language\",\"program\"))                #when we replace substring\n",
        "print(str.split())                                      #split a string into a list"
      ],
      "metadata": {
        "colab": {
          "base_uri": "https://localhost:8080/"
        },
        "id": "GRC9wkLUVd4H",
        "outputId": "6763aae7-8026-4dc7-e1a8-68e6b571e8b4"
      },
      "execution_count": 21,
      "outputs": [
        {
          "output_type": "stream",
          "name": "stdout",
          "text": [
            "True\n",
            "False\n",
            "python is good program\n",
            "['python', 'is', 'good', 'language']\n"
          ]
        }
      ]
    }
  ]
}